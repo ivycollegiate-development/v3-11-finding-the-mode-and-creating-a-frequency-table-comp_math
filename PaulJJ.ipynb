{
 "cells": [
  {
   "cell_type": "code",
   "execution_count": null,
   "metadata": {},
   "outputs": [],
   "source": [
    "import pandas as pd\n",
    "import numpy as np\n",
    "import matplotlib.pyplot as plt\n",
    "from typing import List, Union\n",
    "def generate_sample_donations(filename: str = 'donations.txt', num_entries: int = 50) -> None:\n",
    "# TODO: Implement random donation generation\n",
    "# Suggestions:\n",
    "# - Use numpy for random number generation\n",
    "# - Create realistic donation amounts (e.g., $50-$1000)\n",
    "# - Write to a text file\n"
   ]
  }
 ],
 "metadata": {
  "kernelspec": {
   "display_name": "Python 3",
   "language": "python",
   "name": "python3"
  },
  "language_info": {
   "name": "python",
   "version": "3.12.1"
  }
 },
 "nbformat": 4,
 "nbformat_minor": 2
}
