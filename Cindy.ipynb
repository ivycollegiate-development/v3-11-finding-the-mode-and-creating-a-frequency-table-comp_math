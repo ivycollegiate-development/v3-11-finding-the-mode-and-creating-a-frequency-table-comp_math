{
 "cells": [
  {
   "cell_type": "code",
   "execution_count": null,
   "metadata": {
    "vscode": {
     "languageId": "plaintext"
    }
   },
   "outputs": [],
   "source": [
    "import pandas as pd\n",
    "import numpy as np\n",
    "import matplotlib.pyplot as plt\n",
    "from typing import List, Union\n",
    "def generate_sample_donations(filename: str = 'donations.txt', num_entries: int = 50) -> None:\n",
    "    \"\"\"\n",
    "    Generate a sample donations file with random data\n",
    "    \n",
    "    Parameters:\n",
    "    -----------\n",
    "    filename : str, optional\n",
    "        Output filename for donations\n",
    "    num_entries : int, optional\n",
    "        Number of donation entries to generate\n",
    "    \"\"\"\n",
    "    # TODO: Implement random donation generation\n",
    "    # Suggestions:\n",
    "    # - Use numpy for random number generation\n",
    "    np.random.seed(42)\n",
    "    # - Create realistic donation amounts (e.g., $50-$1000)\n",
    "    donations = np.clip(\n",
    "       np.random.normal(250, 100, num_entries),\n",
    "       50,\n",
    "       1000 \n",
    "    )\n",
    "    # - Write to a text file\n",
    "    try:\n",
    "        with open(filename, 'w') as f:\n",
    "            for donation in donations:\n",
    "                f.write(f\"{donation}\\n\")\n",
    "        print(f\"Generated {num_entries} donations in {filename}\")\n",
    "    except: IOError as e:\n",
    "        print(f\"Error writing file: {e}\")"
   ]
  }
 ],
 "metadata": {
  "language_info": {
   "name": "python"
  }
 },
 "nbformat": 4,
 "nbformat_minor": 2
}
