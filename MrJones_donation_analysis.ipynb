{
 "cells": [
  {
   "cell_type": "code",
   "execution_count": 5,
   "metadata": {},
   "outputs": [],
   "source": [
    "import pandas as pd\n",
    "import numpy as np\n",
    "import matplotlib.pyplot as plt\n",
    "from typing import List, Union"
   ]
  },
  {
   "cell_type": "code",
   "execution_count": 6,
   "metadata": {},
   "outputs": [
    {
     "ename": "SyntaxError",
     "evalue": "invalid syntax (396256739.py, line 28)",
     "output_type": "error",
     "traceback": [
      "\u001b[0;36m  Cell \u001b[0;32mIn[6], line 28\u001b[0;36m\u001b[0m\n\u001b[0;31m    except: IOError as e:\u001b[0m\n\u001b[0m                    ^\u001b[0m\n\u001b[0;31mSyntaxError\u001b[0m\u001b[0;31m:\u001b[0m invalid syntax\n"
     ]
    }
   ],
   "source": [
    "def generate_sample_donations(filename: str = 'donations.txt', num_entries: int = 50) -> None:\n",
    "    \"\"\"\n",
    "    Generate a sample donations file with random data\n",
    "    \n",
    "    Parameters:\n",
    "    -----------\n",
    "    filename : str, optional\n",
    "        Output filename for donations\n",
    "    num_entries : int, optional\n",
    "        Number of donation entries to generate\n",
    "    \"\"\"\n",
    "    # TODO: Implement random donation generation\n",
    "    # Suggestions:\n",
    "    # - Use numpy for random number generation\n",
    "    np.random.seed(42)\n",
    "    # - Create realistic donation amounts (e.g., $50-$1000)\n",
    "    donations = np.clip(\n",
    "       np.random.normal(250, 100, num_entries),\n",
    "       50,\n",
    "       1000 \n",
    "    )\n",
    "    # - Write to a text file\n",
    "    try:\n",
    "        with open(filename, 'w') as f:\n",
    "            for donation in donations:\n",
    "                f.write(f\"{donation}\\n\")\n",
    "        print(f\"Generated {num_entries} donations in {filename}\")\n",
    "    except: IOError as e:\n",
    "        print(f\"Error writing file: {e}\")"
   ]
  }
 ],
 "metadata": {
  "kernelspec": {
   "display_name": "Python 3",
   "language": "python",
   "name": "python3"
  },
  "language_info": {
   "codemirror_mode": {
    "name": "ipython",
    "version": 3
   },
   "file_extension": ".py",
   "mimetype": "text/x-python",
   "name": "python",
   "nbconvert_exporter": "python",
   "pygments_lexer": "ipython3",
   "version": "3.12.1"
  }
 },
 "nbformat": 4,
 "nbformat_minor": 2
}
