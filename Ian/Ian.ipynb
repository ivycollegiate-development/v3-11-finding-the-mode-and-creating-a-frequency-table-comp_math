{
 "cells": [
  {
   "cell_type": "code",
   "execution_count": null,
   "metadata": {},
   "outputs": [],
   "source": [
    "import pandas as pd\n",
    "import numpy as np\n",
    "import matplotlib.pyplot as plt\n",
    "from typing import List, Union\n"
   ]
  },
  {
   "cell_type": "code",
   "execution_count": null,
   "metadata": {},
   "outputs": [],
   "source": [
    "def generate_sample_donations(filename: str = 'donations.txt', num_entries: int = 50) -> None:\n",
    "    \"\"\"\n",
    "    Generate a sample donations file with random data\n",
    "    \n",
    "    Parameters:\n",
    "    -----------\n",
    "    filename : str, optional\n",
    "        Output filename for donations\n",
    "    num_entries : int, optional\n",
    "        Number of donation entries to generate\n",
    "    \"\"\"\n",
    "    # TODO: Implement random donation generation\n",
    "    # Suggestions:\n",
    "    # - Use numpy for random number generation\n",
    "    # - Create realistic donation amounts (e.g., $50-$1000)\n",
    "    # - Write to a text file\n",
    "    pass"
   ]
  }
 ],
 "metadata": {
  "kernelspec": {
   "display_name": "Python 3",
   "language": "python",
   "name": "python3"
  },
  "language_info": {
   "name": "python",
   "version": "3.12.1"
  }
 },
 "nbformat": 4,
 "nbformat_minor": 2
}
