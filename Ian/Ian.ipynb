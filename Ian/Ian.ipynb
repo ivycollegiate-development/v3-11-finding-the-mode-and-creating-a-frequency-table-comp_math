{
 "cells": [
  {
   "cell_type": "markdown",
   "metadata": {},
   "source": [
    "Imports Required Libraries"
   ]
  },
  {
   "cell_type": "code",
   "execution_count": null,
   "metadata": {},
   "outputs": [],
   "source": [
    "import pandas as pd\n",
    "import numpy as np\n",
    "import matplotlib.pyplot as plt\n",
    "from typing import List, Union"
   ]
  },
  {
   "cell_type": "markdown",
   "metadata": {},
   "source": [
    "Data Generation Function"
   ]
  },
  {
   "cell_type": "code",
   "execution_count": 1,
   "metadata": {},
   "outputs": [],
   "source": [
    "def generate_sample_donations(filename: str = 'donations.txt', num_entries: int = 50) -> None:\n",
    "    \"\"\"\n",
    "    Generate a sample donations file with random data\n",
    "    \n",
    "    Parameters:\n",
    "    -----------\n",
    "    filename : str, optional\n",
    "        Output filename for donations\n",
    "    num_entries : int, optional\n",
    "        Number of donation entries to generate\n",
    "    \"\"\"\n",
    "    # TODO: Implement random donation generation\n",
    "    # Suggestions:\n",
    "    # - Use numpy for random number generation\n",
    "    np.random.seed(42)\n",
    "    # - Create realistic donation amounts (e.g., $50-$1000)\n",
    "    donations = np.clip(\n",
    "       np.random.normal(250, 100, num_entries),\n",
    "       50,\n",
    "       1000 \n",
    "    )\n",
    "    # - Write to a text file\n",
    "    try:\n",
    "        with open(filename, 'w') as f:\n",
    "            for donation in donations:\n",
    "                f.write(f\"{donation}\\n\")\n",
    "        print(f\"Generated {num_entries} donations in {filename}\")\n",
    "    except IOError as e:\n",
    "        print(f\"Error writing file: {e}\")"
   ]
  },
  {
   "cell_type": "markdown",
   "metadata": {},
   "source": [
    "Data Reading and Validation"
   ]
  },
  {
   "cell_type": "code",
   "execution_count": 4,
   "metadata": {},
   "outputs": [
    {
     "ename": "NameError",
     "evalue": "name 'pd' is not defined",
     "output_type": "error",
     "traceback": [
      "\u001b[0;31m---------------------------------------------------------------------------\u001b[0m",
      "\u001b[0;31mNameError\u001b[0m                                 Traceback (most recent call last)",
      "Cell \u001b[0;32mIn[4], line 1\u001b[0m\n\u001b[0;32m----> 1\u001b[0m \u001b[38;5;28;01mdef\u001b[39;00m \u001b[38;5;21mread_donations\u001b[39m(filename: \u001b[38;5;28mstr\u001b[39m) \u001b[38;5;241m-\u001b[39m\u001b[38;5;241m>\u001b[39m \u001b[43mpd\u001b[49m\u001b[38;5;241m.\u001b[39mSeries:\n\u001b[1;32m      2\u001b[0m \u001b[38;5;250m    \u001b[39m\u001b[38;5;124;03m\"\"\"\u001b[39;00m\n\u001b[1;32m      3\u001b[0m \u001b[38;5;124;03m    Read donations from a text file\u001b[39;00m\n\u001b[1;32m      4\u001b[0m \u001b[38;5;124;03m    \u001b[39;00m\n\u001b[0;32m   (...)\u001b[0m\n\u001b[1;32m     13\u001b[0m \u001b[38;5;124;03m        Validated donation amounts\u001b[39;00m\n\u001b[1;32m     14\u001b[0m \u001b[38;5;124;03m    \"\"\"\u001b[39;00m\n\u001b[1;32m     15\u001b[0m     \u001b[38;5;66;03m# TODO: Implement robust file reading\u001b[39;00m\n\u001b[1;32m     16\u001b[0m     \u001b[38;5;66;03m# Requirements:\u001b[39;00m\n\u001b[1;32m     17\u001b[0m     \u001b[38;5;66;03m# - Convert to numeric, handling potential non-numeric entries\u001b[39;00m\n\u001b[1;32m     18\u001b[0m     \u001b[38;5;66;03m# - Handle potential file reading errors\u001b[39;00m\n",
      "\u001b[0;31mNameError\u001b[0m: name 'pd' is not defined"
     ]
    }
   ],
   "source": [
    "def read_donations(filename: str) -> pd.Series:\n",
    "    \"\"\"\n",
    "    Read donations from a text file\n",
    "    \n",
    "    Parameters:\n",
    "    -----------\n",
    "    filename : str\n",
    "        Path to the donations file\n",
    "    \n",
    "    Returns:\n",
    "    --------\n",
    "    pd.Series\n",
    "        Validated donation amounts\n",
    "    \"\"\"\n",
    "    # TODO: Implement robust file reading\n",
    "    # Requirements:\n",
    "    # - Convert to numeric, handling potential non-numeric entries\n",
    "    # - Handle potential file reading errors\n",
    "    try:\n",
    "        donations = pd.read_csv(\n",
    "            filename,\n",
    "            header=None,\n",
    "            names=['amount'],\n",
    "            dtype=float,\n",
    "            on_bad_lines='skip' # Skips any bad or unreadable lines\n",
    "        )['amount']\n",
    "    \n",
    "    # - Remove or handle outliers\n",
    "    # - Removes extreme outliers (beyond three standard deviations)\n",
    "        donations = donations[\n",
    "            np.abs(donations - donations.mean()) <=\n",
    "            (3 * donations.std())\n",
    "        ]\n",
    "\n",
    "        return donations\n",
    "    \n",
    "    except FileNotFoundError:\n",
    "        print(f\"File {filename} not found.\")\n",
    "        return pd.Series()\n",
    "    except Exception as e:\n",
    "        print(f\"Error reading donations: {e}\")\n",
    "        return pd.Series"
   ]
  },
  {
   "cell_type": "code",
   "execution_count": 7,
   "metadata": {},
   "outputs": [
    {
     "ename": "NameError",
     "evalue": "name 'pd' is not defined",
     "output_type": "error",
     "traceback": [
      "\u001b[0;31m---------------------------------------------------------------------------\u001b[0m",
      "\u001b[0;31mNameError\u001b[0m                                 Traceback (most recent call last)",
      "Cell \u001b[0;32mIn[7], line 1\u001b[0m\n\u001b[0;32m----> 1\u001b[0m \u001b[38;5;28;01mdef\u001b[39;00m \u001b[38;5;21mcalculate_statistics\u001b[39m(donations: \u001b[43mpd\u001b[49m\u001b[38;5;241m.\u001b[39mSeries) \u001b[38;5;241m-\u001b[39m\u001b[38;5;241m>\u001b[39m \u001b[38;5;28mdict\u001b[39m:\n\u001b[1;32m      2\u001b[0m \u001b[38;5;250m    \u001b[39m\u001b[38;5;124;03m\"\"\"\u001b[39;00m\n\u001b[1;32m      3\u001b[0m \u001b[38;5;124;03m    Calculate comprehensive statistics\u001b[39;00m\n\u001b[1;32m      4\u001b[0m \u001b[38;5;124;03m    \u001b[39;00m\n\u001b[0;32m   (...)\u001b[0m\n\u001b[1;32m     13\u001b[0m \u001b[38;5;124;03m        Comprehensive statistical summary\u001b[39;00m\n\u001b[1;32m     14\u001b[0m \u001b[38;5;124;03m    \"\"\"\u001b[39;00m\n\u001b[1;32m     15\u001b[0m \u001b[38;5;66;03m# Ensure that the data was generated properly\u001b[39;00m\n",
      "\u001b[0;31mNameError\u001b[0m: name 'pd' is not defined"
     ]
    }
   ],
   "source": [
    "def calculate_statistics(donations: pd.Series) -> dict:\n",
    "    \"\"\"\n",
    "    Calculate comprehensive statistics\n",
    "    \n",
    "    Parameters:\n",
    "    -----------\n",
    "    donations : pd.Series\n",
    "        Donation amounts\n",
    "    \n",
    "    Returns:\n",
    "    --------\n",
    "    dict\n",
    "        Comprehensive statistical summary\n",
    "    \"\"\"\n",
    "# Ensure that the data was generated properly\n",
    "    if donations.empty:\n",
    "        print(\"No donation data available for statistical analysis\")\n",
    "        return {}\n",
    "\n",
    "    return {\n",
    "        'Mean': donations.mean(),\n",
    "        'Median': donations.median(),\n",
    "        'Mode': donations.mode().values[0],\n",
    "        'Standard Deviation': donations.std(),\n",
    "        'Minimum': donations.min(),\n",
    "        'Maximum': donations.max(),\n",
    "        'Total Donations': donations.sum()\n",
    "    }"
   ]
  },
  {
   "cell_type": "code",
   "execution_count": null,
   "metadata": {},
   "outputs": [],
   "source": [
    "def create_donation_visualizations(donations: pd.Series) -> None:\n",
    "    \"\"\"\n",
    "    Create multiple visualizations of donation data\n",
    "    \n",
    "    Parameters:\n",
    "    -----------\n",
    "    donations : pd.Series\n",
    "        Donation amounts\n",
    "    \"\"\"\n",
    "    if donations.empty:\n",
    "        print(\"No donations avaiable for visualization\")\n",
    "        return\n",
    "    \n",
    "    plt.figure(figsize=(16,12))\n",
    "    \n",
    "    # Create a 2x2 subplot grid\n",
    "    fig, axes = plt.subplots(2, 2, figsize=(15, 12))\n",
    "    \n",
    " # Histogram with KDE\n",
    "    plt.subplot(2, 2, 1)\n",
    "    donations.plot(kind='hist', bins=20, density=True, alpha=0.7)\n",
    "    donations.plot(kind='kde', color='red')\n",
    "    plt.title('Donation Distribution')\n",
    "    plt.xlabel('Donation Amount ($)')\n",
    "    plt.ylabel('Density')\n",
    "    \n",
    "    # Box Plot\n",
    "    plt.subplot(2, 2, 2)\n",
    "    plt.boxplot(donations)\n",
    "    plt.title('Donation Box Plot')\n",
    "    \n",
    "    # Violin Plot using seaborn\n",
    "    import seaborn as sns\n",
    "    plt.subplot(2, 2, 3)\n",
    "    sns.violinplot(data=donations, inner=\"quartile\")\n",
    "    plt.title('Donation Violin Plot')\n",
    "    \n",
    "    # Cumulative Distribution\n",
    "    plt.subplot(2, 2, 4)\n",
    "    donations.sort_values().cumsum().plot()\n",
    "    plt.title('Cumulative Donation Amount')\n",
    "    plt.xlabel('Number of Donations')\n",
    "    plt.ylabel('Total Donation Amount ($)')\n",
    "    \n",
    "    plt.tight_layout()\n",
    "    plt.show()"
   ]
  },
  {
   "cell_type": "code",
   "execution_count": 8,
   "metadata": {},
   "outputs": [
    {
     "name": "stdout",
     "output_type": "stream",
     "text": [
      "Analysis failed: name 'np' is not defined\n"
     ]
    }
   ],
   "source": [
    "def main():\n",
    "    try:\n",
    "        # Data generation\n",
    "        generate_sample_donations()\n",
    "        \n",
    "        # Data reading\n",
    "        donations = read_donations('donations.txt')\n",
    "        \n",
    "        # Statistical analysis\n",
    "        stats = calculate_statistics(donations)\n",
    "        \n",
    "        # Print statistics\n",
    "        if stats:\n",
    "            print(\"\\n🔍 Donation Analytics Report 🔍\")\n",
    "            for stat, value in stats.items():\n",
    "                print(f\"{stat}: ${value:,.2f}\")\n",
    "        \n",
    "        # Visualize data\n",
    "        create_donation_visualizations(donations)\n",
    "    \n",
    "    except Exception as e:\n",
    "        print(f\"Analysis failed: {e}\")\n",
    "\n",
    "# Execution\n",
    "if __name__ == '__main__':\n",
    "    main()"
   ]
  }
 ],
 "metadata": {
  "kernelspec": {
   "display_name": "Python 3",
   "language": "python",
   "name": "python3"
  },
  "language_info": {
   "codemirror_mode": {
    "name": "ipython",
    "version": 3
   },
   "file_extension": ".py",
   "mimetype": "text/x-python",
   "name": "python",
   "nbconvert_exporter": "python",
   "pygments_lexer": "ipython3",
   "version": "3.12.1"
  }
 },
 "nbformat": 4,
 "nbformat_minor": 2
}
