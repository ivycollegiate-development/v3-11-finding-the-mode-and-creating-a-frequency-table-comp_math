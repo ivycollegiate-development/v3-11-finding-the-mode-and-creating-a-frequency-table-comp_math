{
 "cells": [
  {
   "cell_type": "code",
   "execution_count": null,
   "metadata": {},
   "outputs": [],
   "source": [
    "import pandas as pd\n",
    "import numpy as np\n",
    "import matplotlib.pyplot as plt\n",
    "from typing import List, Union\n"
   ]
  },
  {
   "cell_type": "code",
   "execution_count": 1,
   "metadata": {},
   "outputs": [],
   "source": [
    "def generate_sample_donations(filename: str = 'donations.txt', num_entries: int = 50) -> None:\n",
    "    \"\"\"\n",
    "    Generate a sample donations file with random data\n",
    "    \n",
    "    Parameters:\n",
    "    -----------\n",
    "    filename : str, optional\n",
    "        Output filename for donations\n",
    "    num_entries : int, optional\n",
    "        Number of donation entries to generate\n",
    "    \"\"\"\n",
    "    # TODO: Implement random donation generation\n",
    "    # Suggestions:\n",
    "    # - Use numpy for random number generation\n",
    "    np.random.seed(42)\n",
    "    # - Create realistic donation amounts (e.g., $50-$1000)\n",
    "    donations = np.clip(\n",
    "       np.random.normal(250, 100, num_entries),\n",
    "       50,\n",
    "       1000 \n",
    "    )\n",
    "    # - Write to a text file\n",
    "    try:\n",
    "        with open(filename, 'w') as f:\n",
    "            for donation in donations:\n",
    "                f.write(f\"{donation}\\n\")\n",
    "        print(f\"Generated {num_entries} donations in {filename}\")\n",
    "    except IOError as e:\n",
    "        print(f\"Error writing file: {e}\")"
   ]
  },
  {
   "cell_type": "code",
   "execution_count": null,
   "metadata": {},
   "outputs": [
    {
     "ename": "NameError",
     "evalue": "name 'pd' is not defined",
     "output_type": "error",
     "traceback": [
      "\u001b[0;31m---------------------------------------------------------------------------\u001b[0m",
      "\u001b[0;31mNameError\u001b[0m                                 Traceback (most recent call last)",
      "Cell \u001b[0;32mIn[2], line 1\u001b[0m\n\u001b[0;32m----> 1\u001b[0m \u001b[38;5;28;01mdef\u001b[39;00m \u001b[38;5;21mread_donations\u001b[39m(filename: \u001b[38;5;28mstr\u001b[39m) \u001b[38;5;241m-\u001b[39m\u001b[38;5;241m>\u001b[39m \u001b[43mpd\u001b[49m\u001b[38;5;241m.\u001b[39mSeries:\n\u001b[1;32m      2\u001b[0m \u001b[38;5;250m    \u001b[39m\u001b[38;5;124;03m\"\"\"\u001b[39;00m\n\u001b[1;32m      3\u001b[0m \u001b[38;5;124;03m    Read donations from a text file\u001b[39;00m\n\u001b[1;32m      4\u001b[0m \u001b[38;5;124;03m    \u001b[39;00m\n\u001b[0;32m   (...)\u001b[0m\n\u001b[1;32m     13\u001b[0m \u001b[38;5;124;03m        Validated donation amounts\u001b[39;00m\n\u001b[1;32m     14\u001b[0m \u001b[38;5;124;03m    \"\"\"\u001b[39;00m\n\u001b[1;32m     15\u001b[0m     \u001b[38;5;66;03m# TODO: Implement robust file reading\u001b[39;00m\n\u001b[1;32m     16\u001b[0m     \u001b[38;5;66;03m# Requirements:\u001b[39;00m\n\u001b[1;32m     17\u001b[0m     \u001b[38;5;66;03m# - Convert to numeric, handling potential non-numeric entries\u001b[39;00m\n\u001b[1;32m     18\u001b[0m     \u001b[38;5;66;03m# - Handle potential file reading errors\u001b[39;00m\n\u001b[1;32m     19\u001b[0m     \u001b[38;5;66;03m# - Remove or handle outliers\u001b[39;00m\n\u001b[1;32m     20\u001b[0m     \u001b[38;5;66;03m# - Removes extreme outliers (beyond three standard deviations)\u001b[39;00m\n",
      "\u001b[0;31mNameError\u001b[0m: name 'pd' is not defined"
     ]
    }
   ],
   "source": [
    "def read_donations(filename: str) -> pd.Series:\n",
    "    \"\"\"\n",
    "    Read donations from a text file\n",
    "    \n",
    "    Parameters:\n",
    "    -----------\n",
    "    filename : str\n",
    "        Path to the donations file\n",
    "    \n",
    "    Returns:\n",
    "    --------\n",
    "    pd.Series\n",
    "        Validated donation amounts\n",
    "    \"\"\"\n",
    "    \n",
    "    # TODO: Implement robust file reading\n",
    "    # Requirements:\n",
    "    # - Convert to numeric, handling potential non-numeric entries\n",
    "    # - Handle potential file reading errors\n",
    "    # - Remove or handle outliers\n",
    "    # - Removes extreme outliers (beyond three standard deviations)"
   ]
  }
 ],
 "metadata": {
  "kernelspec": {
   "display_name": "Python 3",
   "language": "python",
   "name": "python3"
  },
  "language_info": {
   "codemirror_mode": {
    "name": "ipython",
    "version": 3
   },
   "file_extension": ".py",
   "mimetype": "text/x-python",
   "name": "python",
   "nbconvert_exporter": "python",
   "pygments_lexer": "ipython3",
   "version": "3.12.1"
  }
 },
 "nbformat": 4,
 "nbformat_minor": 2
}
