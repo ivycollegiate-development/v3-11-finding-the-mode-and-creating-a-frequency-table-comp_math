{
 "cells": [
  {
   "cell_type": "code",
   "execution_count": 4,
   "metadata": {},
   "outputs": [],
   "source": [
    "import pandas as pd\n",
    "import numpy as np\n",
    "import matplotlib.pyplot as plt\n",
    "from typing import List, Union"
   ]
  },
  {
   "cell_type": "code",
   "execution_count": 5,
   "metadata": {},
   "outputs": [],
   "source": [
    "def generate_sample_donations(filename: str = 'donations.txt', num_entries: int = 50) -> None:\n",
    "    \"\"\"\n",
    "    Generate a sample donations file with random data\n",
    "    \n",
    "    Parameters:\n",
    "    -----------\n",
    "    filename : str, optional\n",
    "        Output filename for donations\n",
    "    num_entries : int, optional\n",
    "        Number of donation entries to generate\n",
    "    \"\"\"\n",
    "    # TODO: Implement random donation generation\n",
    "    # Suggestions:\n",
    "    # - Use numpy for random number generation\n",
    "    np.random.seed(42)\n",
    "    # - Create realistic donation amounts (e.g., $50-$1000)\n",
    "    donations = np.clip(\n",
    "       np.random.normal(250, 100, num_entries),\n",
    "       50,\n",
    "       1000 \n",
    "    )\n",
    "    # - Write to a text file\n",
    "    try:\n",
    "        with open(filename, 'w') as f:\n",
    "            for donation in donations:\n",
    "                f.write(f\"{donation}\\n\")\n",
    "        print(f\"Generated {num_entries} donations in {filename}\")\n",
    "    except IOError as e:\n",
    "        print(f\"Error writing file: {e}\")"
   ]
  },
  {
   "cell_type": "code",
   "execution_count": 6,
   "metadata": {},
   "outputs": [],
   "source": [
    "def read_donations(filename: str) -> pd.Series:\n",
    "    \"\"\"\n",
    "    Read donations from a text file\n",
    "    \n",
    "    Parameters:\n",
    "    -----------\n",
    "    filename : str\n",
    "        Path to the donations file\n",
    "    \n",
    "    Returns:\n",
    "    --------\n",
    "    pd.Series\n",
    "        Validated donation amounts\n",
    "    \"\"\"\n",
    "    # TODO: Implement robust file reading\n",
    "    # Requirements:\n",
    "    # - Handle potential file reading errors\n",
<<<<<<< HEAD
    "    # - Remove or handle outliers\n",
    "    # - Removes extreme outliers (beyond three standard deviations)"
=======
    "    # - Convert to numeric, handling potential non-numeric entries\n",
    "    # - Remove or handle outliers\n",
    "    pass"
>>>>>>> parent of a487762 (Adds error data validation error handling)
   ]
  }
 ],
 "metadata": {
  "kernelspec": {
   "display_name": "Python 3",
   "language": "python",
   "name": "python3"
  },
  "language_info": {
   "codemirror_mode": {
    "name": "ipython",
    "version": 3
   },
   "file_extension": ".py",
   "mimetype": "text/x-python",
   "name": "python",
   "nbconvert_exporter": "python",
   "pygments_lexer": "ipython3",
   "version": "3.12.1"
  }
 },
 "nbformat": 4,
 "nbformat_minor": 2
}
